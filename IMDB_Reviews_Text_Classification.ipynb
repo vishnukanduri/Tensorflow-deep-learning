{
  "nbformat": 4,
  "nbformat_minor": 0,
  "metadata": {
    "colab": {
      "name": "IMDB Reviews Text Classification",
      "provenance": []
    },
    "kernelspec": {
      "name": "python3",
      "display_name": "Python 3"
    }
  },
  "cells": [
    {
      "cell_type": "code",
      "metadata": {
        "id": "puav8t-2ZemV",
        "colab_type": "code",
        "colab": {}
      },
      "source": [
        "from __future__ import absolute_import, division, print_function, unicode_literals"
      ],
      "execution_count": 0,
      "outputs": []
    },
    {
      "cell_type": "code",
      "metadata": {
        "id": "0Z0CKIOTaoMq",
        "colab_type": "code",
        "outputId": "2c2399dc-43bb-4a12-a249-7ac6372925d4",
        "colab": {
          "base_uri": "https://localhost:8080/",
          "height": 34
        }
      },
      "source": [
        "import tensorflow as tf \n",
        "tf.compat.v1.enable_eager_execution\n",
        "from tensorflow import keras\n",
        "import tensorflow_datasets as tfds\n",
        "tfds.disable_progress_bar()\n",
        "import numpy as np\n",
        "print(tf.__version__)"
      ],
      "execution_count": 0,
      "outputs": [
        {
          "output_type": "stream",
          "text": [
            "2.2.0-dev20200303\n"
          ],
          "name": "stdout"
        }
      ]
    },
    {
      "cell_type": "code",
      "metadata": {
        "id": "Y-Kr719y6dm3",
        "colab_type": "code",
        "outputId": "04eb6514-3891-4cea-e146-c90148553818",
        "colab": {
          "base_uri": "https://localhost:8080/",
          "height": 118
        }
      },
      "source": [
        "try:\n",
        "  # %tensorflow_version only exists in Colab.\n",
        "  !pip install -q tf-nightly\n",
        "except Exception:\n",
        "  pass\n",
        "import tensorflow as tf"
      ],
      "execution_count": 0,
      "outputs": [
        {
          "output_type": "stream",
          "text": [
            "\u001b[K     |████████████████████████████████| 516.0MB 28kB/s \n",
            "\u001b[K     |████████████████████████████████| 460kB 39.9MB/s \n",
            "\u001b[K     |████████████████████████████████| 2.8MB 37.4MB/s \n",
            "\u001b[K     |████████████████████████████████| 2.9MB 50.4MB/s \n",
            "\u001b[K     |████████████████████████████████| 778kB 45.0MB/s \n",
            "\u001b[31mERROR: tensorflow 1.15.0 has requirement gast==0.2.2, but you'll have gast 0.3.3 which is incompatible.\u001b[0m\n",
            "\u001b[?25h"
          ],
          "name": "stdout"
        }
      ]
    },
    {
      "cell_type": "code",
      "metadata": {
        "id": "zXWcY492dFen",
        "colab_type": "code",
        "colab": {}
      },
      "source": [
        "(train_data, test_data), info = tfds.load(\n",
        "    'imdb_reviews/subwords8k',\n",
        "    split = (tfds.Split.TRAIN, tfds.Split.TEST),\n",
        "    as_supervised=True,\n",
        "    with_info=True)"
      ],
      "execution_count": 0,
      "outputs": []
    },
    {
      "cell_type": "code",
      "metadata": {
        "id": "DsJi8oqMh5Qv",
        "colab_type": "code",
        "outputId": "e75ff509-9707-4367-96f0-ff878418f8d6",
        "colab": {
          "base_uri": "https://localhost:8080/",
          "height": 541
        }
      },
      "source": [
        "info"
      ],
      "execution_count": 0,
      "outputs": [
        {
          "output_type": "execute_result",
          "data": {
            "text/plain": [
              "tfds.core.DatasetInfo(\n",
              "    name='imdb_reviews',\n",
              "    version=1.0.0,\n",
              "    description='Large Movie Review Dataset.\n",
              "This is a dataset for binary sentiment classification containing substantially more data than previous benchmark datasets. We provide a set of 25,000 highly polar movie reviews for training, and 25,000 for testing. There is additional unlabeled data for use as well.',\n",
              "    homepage='http://ai.stanford.edu/~amaas/data/sentiment/',\n",
              "    features=FeaturesDict({\n",
              "        'label': ClassLabel(shape=(), dtype=tf.int64, num_classes=2),\n",
              "        'text': Text(shape=(None,), dtype=tf.int64, encoder=<SubwordTextEncoder vocab_size=8185>),\n",
              "    }),\n",
              "    total_num_examples=100000,\n",
              "    splits={\n",
              "        'test': 25000,\n",
              "        'train': 25000,\n",
              "        'unsupervised': 50000,\n",
              "    },\n",
              "    supervised_keys=('text', 'label'),\n",
              "    citation=\"\"\"@InProceedings{maas-EtAl:2011:ACL-HLT2011,\n",
              "      author    = {Maas, Andrew L.  and  Daly, Raymond E.  and  Pham, Peter T.  and  Huang, Dan  and  Ng, Andrew Y.  and  Potts, Christopher},\n",
              "      title     = {Learning Word Vectors for Sentiment Analysis},\n",
              "      booktitle = {Proceedings of the 49th Annual Meeting of the Association for Computational Linguistics: Human Language Technologies},\n",
              "      month     = {June},\n",
              "      year      = {2011},\n",
              "      address   = {Portland, Oregon, USA},\n",
              "      publisher = {Association for Computational Linguistics},\n",
              "      pages     = {142--150},\n",
              "      url       = {http://www.aclweb.org/anthology/P11-1015}\n",
              "    }\"\"\",\n",
              "    redistribution_info=,\n",
              ")"
            ]
          },
          "metadata": {
            "tags": []
          },
          "execution_count": 5
        }
      ]
    },
    {
      "cell_type": "code",
      "metadata": {
        "id": "at4_b-ktiVyH",
        "colab_type": "code",
        "outputId": "3f4a0096-6390-41be-e350-3da076047c3e",
        "colab": {
          "base_uri": "https://localhost:8080/",
          "height": 34
        }
      },
      "source": [
        "encoder = info.features['text'].encoder\n",
        "print('Vocabulary Size: {}'.format(encoder.vocab_size))"
      ],
      "execution_count": 0,
      "outputs": [
        {
          "output_type": "stream",
          "text": [
            "Vocabulary Size: 8185\n"
          ],
          "name": "stdout"
        }
      ]
    },
    {
      "cell_type": "code",
      "metadata": {
        "id": "n5vENGvkjAvu",
        "colab_type": "code",
        "outputId": "67036976-002f-4ebe-dbdf-2c3dad7d8696",
        "colab": {
          "base_uri": "https://localhost:8080/",
          "height": 34
        }
      },
      "source": [
        "#Text encoder\n",
        "sample_string = 'I am the best'\n",
        "encoded_string = encoder.encode(sample_string)\n",
        "encoded_string"
      ],
      "execution_count": 0,
      "outputs": [
        {
          "output_type": "execute_result",
          "data": {
            "text/plain": [
              "[12, 258, 1, 883]"
            ]
          },
          "metadata": {
            "tags": []
          },
          "execution_count": 7
        }
      ]
    },
    {
      "cell_type": "code",
      "metadata": {
        "id": "UCCBlCvtjA2e",
        "colab_type": "code",
        "outputId": "76d046cd-6629-4a4d-ea77-b37807cea064",
        "colab": {
          "base_uri": "https://localhost:8080/",
          "height": 84
        }
      },
      "source": [
        "for ts in encoded_string:\n",
        "  print ('{} ----> {}'.format(ts, encoder.decode([ts])))"
      ],
      "execution_count": 0,
      "outputs": [
        {
          "output_type": "stream",
          "text": [
            "12 ----> I \n",
            "258 ----> am \n",
            "1 ----> the \n",
            "883 ----> best\n"
          ],
          "name": "stdout"
        }
      ]
    },
    {
      "cell_type": "code",
      "metadata": {
        "id": "0fYDBxpMjA5H",
        "colab_type": "code",
        "outputId": "f2cf7e5e-30c1-45ed-9265-c36b6e4bb938",
        "colab": {
          "base_uri": "https://localhost:8080/",
          "height": 50
        }
      },
      "source": [
        "for train_example, train_label in train_data.take(1):\n",
        "  print('Encoded string:', train_example[:10].numpy())\n",
        "  print('Label:', train_label.numpy())"
      ],
      "execution_count": 0,
      "outputs": [
        {
          "output_type": "stream",
          "text": [
            "Encoded string: [  62   18   41  604  927   65    3  644 7968   21]\n",
            "Label: 0\n"
          ],
          "name": "stdout"
        }
      ]
    },
    {
      "cell_type": "code",
      "metadata": {
        "id": "QzjhtbGgjA8p",
        "colab_type": "code",
        "outputId": "14219691-b967-4459-a6c1-937366a15efe",
        "colab": {
          "base_uri": "https://localhost:8080/",
          "height": 54
        }
      },
      "source": [
        "#Encoder contains the decoder too\n",
        "encoder.decode(train_example)"
      ],
      "execution_count": 0,
      "outputs": [
        {
          "output_type": "execute_result",
          "data": {
            "text/plain": [
              "\"This was an absolutely terrible movie. Don't be lured in by Christopher Walken or Michael Ironside. Both are great actors, but this must simply be their worst role in history. Even their great acting could not redeem this movie's ridiculous storyline. This movie is an early nineties US propaganda piece. The most pathetic scenes were those when the Columbian rebels were making their cases for revolutions. Maria Conchita Alonso appeared phony, and her pseudo-love affair with Walken was nothing but a pathetic emotional plug in a movie that was devoid of any real meaning. I am disappointed that there are movies like this, ruining actor's like Christopher Walken's good name. I could barely sit through it.\""
            ]
          },
          "metadata": {
            "tags": []
          },
          "execution_count": 10
        }
      ]
    },
    {
      "cell_type": "markdown",
      "metadata": {
        "id": "xeneYWdypMMn",
        "colab_type": "text"
      },
      "source": [
        "Padding is used to bring all sequences (are of different length) to zero pad.\n",
        "Each batch has a shape of (batch_size, sequence_length). sequence_length will be different for each batch as padding is dynamic."
      ]
    },
    {
      "cell_type": "code",
      "metadata": {
        "id": "vf90e1DrnIgm",
        "colab_type": "code",
        "colab": {}
      },
      "source": [
        "#Preparing the data for training\n",
        "BUFFER_SIZE = 1000\n",
        "\n",
        "train_batches = (train_data.shuffle(BUFFER_SIZE).padded_batch(32))\n",
        "\n",
        "test_batches = (test_data.padded_batch(32))"
      ],
      "execution_count": 0,
      "outputs": []
    },
    {
      "cell_type": "code",
      "metadata": {
        "id": "i103iOfynKNQ",
        "colab_type": "code",
        "outputId": "c8ad2127-8a3e-4167-d6c7-639f72109d72",
        "colab": {
          "base_uri": "https://localhost:8080/",
          "height": 84
        }
      },
      "source": [
        "for example_batch, label_batch in train_batches.take(2):\n",
        "  print('Batch shape:', example_batch.shape)\n",
        "  print('Label shape:', label_batch.shape)"
      ],
      "execution_count": 0,
      "outputs": [
        {
          "output_type": "stream",
          "text": [
            "Batch shape: (32, 1008)\n",
            "Label shape: (32,)\n",
            "Batch shape: (32, 1296)\n",
            "Label shape: (32,)\n"
          ],
          "name": "stdout"
        }
      ]
    },
    {
      "cell_type": "code",
      "metadata": {
        "id": "gWNnsvFWoZtI",
        "colab_type": "code",
        "colab": {}
      },
      "source": [
        "#Building the model\n",
        "model = keras.Sequential([\n",
        "  keras.layers.Embedding(encoder.vocab_size, 16),\n",
        "  keras.layers.GlobalAveragePooling1D(),\n",
        "  keras.layers.Dense(1)\n",
        "])"
      ],
      "execution_count": 0,
      "outputs": []
    },
    {
      "cell_type": "code",
      "metadata": {
        "id": "nzJEouKnoZqJ",
        "colab_type": "code",
        "outputId": "0a1131d9-f5b0-443d-bcae-c5f1eeef7301",
        "colab": {
          "base_uri": "https://localhost:8080/",
          "height": 252
        }
      },
      "source": [
        "model.summary()"
      ],
      "execution_count": 0,
      "outputs": [
        {
          "output_type": "stream",
          "text": [
            "Model: \"sequential\"\n",
            "_________________________________________________________________\n",
            "Layer (type)                 Output Shape              Param #   \n",
            "=================================================================\n",
            "embedding (Embedding)        (None, None, 16)          130960    \n",
            "_________________________________________________________________\n",
            "global_average_pooling1d (Gl (None, 16)                0         \n",
            "_________________________________________________________________\n",
            "dense (Dense)                (None, 1)                 17        \n",
            "=================================================================\n",
            "Total params: 130,977\n",
            "Trainable params: 130,977\n",
            "Non-trainable params: 0\n",
            "_________________________________________________________________\n"
          ],
          "name": "stdout"
        }
      ]
    },
    {
      "cell_type": "code",
      "metadata": {
        "id": "_FMxMLoQoZm-",
        "colab_type": "code",
        "colab": {}
      },
      "source": [
        "#Loss and optimizers\n",
        "model.compile(\n",
        "    optimizer = 'Adam', \n",
        "    loss = tf.losses.BinaryCrossentropy(from_logits=True),\n",
        "    metrics = ['accuracy']\n",
        ")"
      ],
      "execution_count": 0,
      "outputs": []
    },
    {
      "cell_type": "code",
      "metadata": {
        "id": "bBNHFtLDnKcK",
        "colab_type": "code",
        "outputId": "ed6f7cbf-3a0b-447d-9597-2cac8f90ea10",
        "colab": {
          "base_uri": "https://localhost:8080/",
          "height": 353
        }
      },
      "source": [
        "#Model fit\n",
        "history = model.fit(train_batches, epochs = 10, validation_data= test_batches, validation_steps=30)"
      ],
      "execution_count": 0,
      "outputs": [
        {
          "output_type": "stream",
          "text": [
            "Epoch 1/10\n",
            "782/782 [==============================] - 7s 9ms/step - loss: 0.6148 - accuracy: 0.5602 - val_loss: 0.5923 - val_accuracy: 0.6292\n",
            "Epoch 2/10\n",
            "782/782 [==============================] - 8s 10ms/step - loss: 0.5368 - accuracy: 0.6710 - val_loss: 0.5296 - val_accuracy: 0.7333\n",
            "Epoch 3/10\n",
            "782/782 [==============================] - 8s 10ms/step - loss: 0.4717 - accuracy: 0.7538 - val_loss: 0.4820 - val_accuracy: 0.7240\n",
            "Epoch 4/10\n",
            "782/782 [==============================] - 8s 10ms/step - loss: 0.4203 - accuracy: 0.8042 - val_loss: 0.4426 - val_accuracy: 0.7937\n",
            "Epoch 5/10\n",
            "782/782 [==============================] - 8s 10ms/step - loss: 0.3794 - accuracy: 0.8341 - val_loss: 0.4171 - val_accuracy: 0.7937\n",
            "Epoch 6/10\n",
            "782/782 [==============================] - 8s 10ms/step - loss: 0.3475 - accuracy: 0.8546 - val_loss: 0.3955 - val_accuracy: 0.8417\n",
            "Epoch 7/10\n",
            "782/782 [==============================] - 8s 10ms/step - loss: 0.3221 - accuracy: 0.8686 - val_loss: 0.3811 - val_accuracy: 0.8500\n",
            "Epoch 8/10\n",
            "782/782 [==============================] - 8s 10ms/step - loss: 0.3017 - accuracy: 0.8807 - val_loss: 0.3690 - val_accuracy: 0.8521\n",
            "Epoch 9/10\n",
            "782/782 [==============================] - 8s 10ms/step - loss: 0.2841 - accuracy: 0.8883 - val_loss: 0.3607 - val_accuracy: 0.8583\n",
            "Epoch 10/10\n",
            "782/782 [==============================] - 8s 10ms/step - loss: 0.2695 - accuracy: 0.8962 - val_loss: 0.3552 - val_accuracy: 0.8542\n"
          ],
          "name": "stdout"
        }
      ]
    },
    {
      "cell_type": "code",
      "metadata": {
        "id": "UvIs6t59nKhd",
        "colab_type": "code",
        "outputId": "f2a1eea8-be52-4304-cbb8-f27765c1e1db",
        "colab": {
          "base_uri": "https://localhost:8080/",
          "height": 67
        }
      },
      "source": [
        "#Evaluating our model\n",
        "loss, accuracy = model.evaluate(test_batches)\n",
        "print('Loss:', loss)\n",
        "print('Accuracy:', accuracy)"
      ],
      "execution_count": 0,
      "outputs": [
        {
          "output_type": "stream",
          "text": [
            "782/782 [==============================] - 4s 5ms/step - loss: 0.3237 - accuracy: 0.8604\n",
            "Loss: 0.3236579895019531\n",
            "Accuracy: 0.8603600263595581\n"
          ],
          "name": "stdout"
        }
      ]
    },
    {
      "cell_type": "code",
      "metadata": {
        "id": "bPdZSXzLnKmZ",
        "colab_type": "code",
        "outputId": "51a46efe-b383-47d6-ebe2-c6ba4d6399d1",
        "colab": {
          "base_uri": "https://localhost:8080/",
          "height": 34
        }
      },
      "source": [
        "#The history object returned by model.fit contains details about what happened during training\n",
        "history_dict = history.history\n",
        "history_dict.keys()"
      ],
      "execution_count": 0,
      "outputs": [
        {
          "output_type": "execute_result",
          "data": {
            "text/plain": [
              "dict_keys(['loss', 'accuracy', 'val_loss', 'val_accuracy'])"
            ]
          },
          "metadata": {
            "tags": []
          },
          "execution_count": 21
        }
      ]
    },
    {
      "cell_type": "code",
      "metadata": {
        "id": "hZsVY9q9nKrR",
        "colab_type": "code",
        "outputId": "d7adbc72-3765-42f9-ea55-9dcf460f5afc",
        "colab": {
          "base_uri": "https://localhost:8080/",
          "height": 295
        }
      },
      "source": [
        "#Training and validation losses plots\n",
        "import matplotlib.pyplot as plt\n",
        "\n",
        "loss = history_dict['loss']\n",
        "val_loss = history_dict['val_loss']\n",
        "acc = history_dict['accuracy']\n",
        "val_acc = history_dict['val_accuracy']\n",
        "\n",
        "epochs = range(1, len(acc) + 1)\n",
        "#'bo' is blue dot\n",
        "plt.plot(epochs, loss, 'bo', label='Training loss')\n",
        "#'b' is solid blue line\n",
        "plt.plot(epochs, val_loss, 'b', label='Validation loss')\n",
        "plt.title('Training and validation loss')\n",
        "plt.xlabel('Epochs')\n",
        "plt.ylabel('Loss')\n",
        "plt.legend()\n",
        "plt.show()"
      ],
      "execution_count": 0,
      "outputs": [
        {
          "output_type": "display_data",
          "data": {
            "image/png": "[encoded data removed]",
            "text/plain": [
              "<Figure size 432x288 with 1 Axes>"
            ]
          },
          "metadata": {
            "tags": []
          }
        }
      ]
    },
    {
      "cell_type": "code",
      "metadata": {
        "id": "Hr5mKRabnKwU",
        "colab_type": "code",
        "outputId": "336fa357-f7b6-47e2-c335-9532e5c11d3a",
        "colab": {
          "base_uri": "https://localhost:8080/",
          "height": 295
        }
      },
      "source": [
        "plt.plot(epochs, acc, 'bo', label = 'Training accuracy')\n",
        "plt.plot(epochs, val_acc, 'b', label = 'Validation accuracy')\n",
        "\n",
        "plt.title('Training and validation accuracy')\n",
        "plt.xlabel('Accuracy')\n",
        "plt.ylabel('Loss')\n",
        "plt.legend(loc = 'lower right')\n",
        "plt.show()"
      ],
      "execution_count": 0,
      "outputs": [
        {
          "output_type": "display_data",
          "data": {
            "image/png": "[encoded data removed]",
            "text/plain": [
              "<Figure size 432x288 with 1 Axes>"
            ]
          },
          "metadata": {
            "tags": []
          }
        }
      ]
    },
    {
      "cell_type": "code",
      "metadata": {
        "id": "zrZGpx_qEvHB",
        "colab_type": "code",
        "colab": {
          "base_uri": "https://localhost:8080/",
          "height": 554
        },
        "outputId": "78877267-db57-4d04-b3dd-6969708bc574"
      },
      "source": [
        "for test_ex, test_label in test_batches.take(1):\n",
        "  answer = model.predict(test_ex)\n",
        "  print(answer, test_label)"
      ],
      "execution_count": 32,
      "outputs": [
        {
          "output_type": "stream",
          "text": [
            "[[-1.066226  ]\n",
            " [ 3.3107316 ]\n",
            " [-3.020026  ]\n",
            " [-2.0458481 ]\n",
            " [ 2.0658014 ]\n",
            " [ 2.412808  ]\n",
            " [ 4.4921894 ]\n",
            " [ 5.878423  ]\n",
            " [ 1.0385308 ]\n",
            " [-1.1835165 ]\n",
            " [-8.317179  ]\n",
            " [-0.6638019 ]\n",
            " [ 0.90180194]\n",
            " [-0.54477316]\n",
            " [ 2.1947253 ]\n",
            " [-0.6315775 ]\n",
            " [ 1.9962146 ]\n",
            " [-1.7584485 ]\n",
            " [ 1.393167  ]\n",
            " [-5.3359857 ]\n",
            " [-3.7788432 ]\n",
            " [-1.8289045 ]\n",
            " [-1.546153  ]\n",
            " [-2.079473  ]\n",
            " [ 5.8288713 ]\n",
            " [-0.8683705 ]\n",
            " [-2.3190749 ]\n",
            " [-3.8204825 ]\n",
            " [-2.502239  ]\n",
            " [ 5.2014627 ]\n",
            " [ 2.021607  ]\n",
            " [ 3.3196833 ]] tf.Tensor([1 1 0 0 1 1 1 1 0 1 0 0 1 0 1 0 1 0 1 0 0 1 0 0 1 1 0 0 0 1 1 1], shape=(32,), dtype=int64)\n"
          ],
          "name": "stdout"
        }
      ]
    }
  ]
}